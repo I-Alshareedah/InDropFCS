{
 "cells": [
  {
   "cell_type": "code",
   "execution_count": 44,
   "id": "cfab1732-5e05-495f-9600-95f00383cf3c",
   "metadata": {},
   "outputs": [],
   "source": [
    "import lmfit\n",
    "import numpy as np\n",
    "import matplotlib.pyplot as plt\n",
    "from multipletau import autocorrelate\n",
    "%matplotlib inline"
   ]
  },
  {
   "cell_type": "code",
   "execution_count": null,
   "id": "683dd8f0-6a95-4e5a-a1e3-ef9683215d81",
   "metadata": {},
   "outputs": [],
   "source": [
    "#Load text file as a matrix, it may take a while, file has 8 million data points\n",
    "M = np.loadtxt('Example_FCS_data.txt')\n",
    "#Select first array as timestamps and second array as counts\n",
    "t = M[:,0]\n",
    "count=M[:,1]\n",
    "#plot count against t\n",
    "#plt.plot(t,count)\n"
   ]
  },
  {
   "cell_type": "code",
   "execution_count": null,
   "id": "a23eb160-3ee3-4e6d-a638-13d5dc16a76b",
   "metadata": {},
   "outputs": [],
   "source": [
    "#calcualte autocorrelation function\n",
    "dt=t[1]-t[0]/1e9\n",
    "ACF = autocorrelate(count, m=16,deltat=dt, normalize=True)\n",
    "\n",
    "#plot\n",
    "plt.figure(figsize=(12,10))\n",
    "plt.semilogx(ACF[:,0], ACF[:,1], 'o')\n",
    "plt.xlabel(r'$\\tau (s)$',fontsize=12)\n",
    "plt.ylabel(r'$G(\\tau)$',fontsize=12)\n",
    "plt.ylim(0,.05)"
   ]
  },
  {
   "cell_type": "code",
   "execution_count": null,
   "id": "16cee54e-4a47-4c8c-baf9-35b40c91136c",
   "metadata": {},
   "outputs": [],
   "source": [
    "def FCS_model(tau, G0, D,w, wz, G_inf):\n",
    "    return G0*((1+ 4*D*tau/w**2)**-1 * (1+ 4*D*tau*wz**-2)**-0.5) + G_inf\n"
   ]
  },
  {
   "cell_type": "code",
   "execution_count": null,
   "id": "b2f6a2c1-836c-4971-aadd-1f27a88e5663",
   "metadata": {},
   "outputs": [],
   "source": [
    "model = lmfit.Model(FCS_model)\n",
    "params = model.make_params(G0=1.,D=300,w=0.290,wz=68,G_inf=0.)\n",
    "params['wz'].set(value=1.7, vary=False)\n",
    "params['D'].set(min=1.e-8,max=+np.inf,vary=True)\n",
    "params['w'].set(value=0.342, vary=False)\n",
    "ACF = np.delete(ACF,0,axis=0)\n",
    "fitres = model.fit(ACF[:,1], tau=ACF[:,0], params=params, method='least_squares')\n",
    "print(fitres.fit_report())\n"
   ]
  },
  {
   "cell_type": "code",
   "execution_count": null,
   "id": "38c5de5e-a0bc-4fd9-a71f-1fd531c2b9a2",
   "metadata": {},
   "outputs": [],
   "source": [
    "plt.semilogx(ACF[:,0], ACF[:,1],'-')\n",
    "plt.semilogx(ACF[:,0], fitres.best_fit)\n",
    "plt.xlabel(r'$\\tau (s)$')\n",
    "plt.ylabel(r'$G(\\tau)$')\n",
    "plt.ylim(0,0.04)\n",
    "plt.show()\n",
    "np.savetxt(\"ACFandFit.txt\",np.transpose([ACF[:,0],ACF[:,1],fitres.best_fit]),delimiter='\\t')\n",
    "# first two points are higher correlations due to triplet state blinking, discard or change equation of fit to account for it"
   ]
  },
  {
   "cell_type": "code",
   "execution_count": null,
   "id": "bbd7247e-e650-41a5-ac1f-5f0bf1def4e2",
   "metadata": {},
   "outputs": [],
   "source": [
    "f = open('fitting report.txt','w')\n",
    "f.write(fitres.fit_report())\n",
    "f.close()\n"
   ]
  },
  {
   "cell_type": "code",
   "execution_count": null,
   "id": "33d6de9e-2521-4bf0-b50d-bfff6c6dbb01",
   "metadata": {},
   "outputs": [],
   "source": []
  }
 ],
 "metadata": {
  "kernelspec": {
   "display_name": "Python 3 (ipykernel)",
   "language": "python",
   "name": "python3"
  },
  "language_info": {
   "codemirror_mode": {
    "name": "ipython",
    "version": 3
   },
   "file_extension": ".py",
   "mimetype": "text/x-python",
   "name": "python",
   "nbconvert_exporter": "python",
   "pygments_lexer": "ipython3",
   "version": "3.9.7"
  }
 },
 "nbformat": 4,
 "nbformat_minor": 5
}
